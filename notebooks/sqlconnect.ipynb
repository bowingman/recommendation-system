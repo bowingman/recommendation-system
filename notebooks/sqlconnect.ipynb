{
 "cells": [
  {
   "cell_type": "code",
   "execution_count": 12,
   "metadata": {},
   "outputs": [],
   "source": [
    "import requests\n",
    "import psycopg2\n",
    "import time\n",
    "from bs4 import BeautifulSoup"
   ]
  },
  {
   "cell_type": "code",
   "execution_count": 13,
   "metadata": {},
   "outputs": [],
   "source": [
    "conn = psycopg2.connect(\"dbname='movie_recommender' user='postgres' host='localhost' port=5432 password=''\")\n",
    "conn.autocommit = True"
   ]
  },
  {
   "cell_type": "code",
   "execution_count": 14,
   "metadata": {},
   "outputs": [],
   "source": [
    "def updateRecord(record_to_insert):\n",
    "    postgres_insert_query = \"UPDATE idmapper set url='%s' where id=%d\"%record_to_insert\n",
    "    cur = conn.cursor()\n",
    "    cur.execute(postgres_insert_query)\n",
    "    conn.commit()\n"
   ]
  },
  {
   "cell_type": "code",
   "execution_count": 15,
   "metadata": {},
   "outputs": [],
   "source": [
    "def hasEmptyUrlRecords():\n",
    "    sql = \"select count(*) from idmapper where url is null;\"\n",
    "    cur = conn.cursor()\n",
    "    cur.execute(sql)\n",
    "    record = None\n",
    "    for row in cur:\n",
    "        record = row\n",
    "    return int(record[0])"
   ]
  },
  {
   "cell_type": "code",
   "execution_count": 16,
   "metadata": {},
   "outputs": [],
   "source": [
    "def fetchWhereEmptyUrl(pid):\n",
    "    sql = \"select id, newid from idmapper where url is null and id=%d limit 1;\"%(pid)\n",
    "    cur = conn.cursor()\n",
    "    cur.execute(sql)\n",
    "    record = None\n",
    "    for row in cur:\n",
    "        record = row\n",
    "    if not record: return (1, '')\n",
    "    return record"
   ]
  },
  {
   "cell_type": "code",
   "execution_count": 17,
   "metadata": {},
   "outputs": [],
   "source": [
    "def fetchImageUrl(movie_id):\n",
    "    url = \"https://www.imdb.com/title/%s/\"%(movie_id)\n",
    "    resp = requests.get(url)\n",
    "    if resp.status_code >= 400:\n",
    "        return ''\n",
    "    img_url = ''\n",
    "    try:\n",
    "        bs = BeautifulSoup(resp.text)\n",
    "        poster_div = bs.findAll(\"div\", {\"class\": \"poster\"})[0]\n",
    "        poster_img = poster_div.findAll('img')[0]\n",
    "        img_url = poster_img['src']\n",
    "    except:\n",
    "        pass\n",
    "    return img_url"
   ]
  },
  {
   "cell_type": "code",
   "execution_count": null,
   "metadata": {},
   "outputs": [],
   "source": []
  },
  {
   "cell_type": "code",
   "execution_count": 19,
   "metadata": {},
   "outputs": [
    {
     "name": "stdout",
     "output_type": "stream",
     "text": [
      "Fetching for  15157\n",
      "Mapper info :  15157 tt3305316 \n",
      "\n",
      "Fetching for  15158\n",
      "Mapper info :  15158 tt3816458 \n",
      "\n",
      "Fetching for  15159\n",
      "Mapper info :  15159 tt1645916 \n",
      "\n",
      "Fetching for  15160\n",
      "Mapper info :  15160 tt1595366 \n",
      "\n",
      "Fetching for  15161\n",
      "Mapper info :  15161 tt0239450 \n",
      "\n",
      "Fetching for  15162\n",
      "Mapper info :  15162 tt0465925 \n",
      "\n",
      "Fetching for  15163\n",
      "Mapper info :  15163 tt0248409 \n",
      "\n",
      "Fetching for  15164\n",
      "Mapper info :  15164 tt0289477 \n",
      "\n",
      "Fetching for  15165\n",
      "Mapper info :  15165 tt0128332 \n",
      "\n"
     ]
    }
   ],
   "source": [
    "for counter in [15157, 15158, 15159, 15160, 15161, 15162, 15163, 15164, 15165]:\n",
    "    print \"Fetching for \", counter\n",
    "    rid, imdb_id = fetchWhereEmptyUrl(counter)\n",
    "    print \"Mapper info : \", rid, imdb_id, '\\n'\n",
    "    if imdb_id != '':\n",
    "        img_url = fetchImageUrl(imdb_id)\n",
    "        time.sleep(2)\n",
    "        if img_url != '':\n",
    "            updateRecord((img_url, rid))"
   ]
  },
  {
   "cell_type": "code",
   "execution_count": 10,
   "metadata": {},
   "outputs": [],
   "source": [
    "# 8808 tt0464029 "
   ]
  },
  {
   "cell_type": "code",
   "execution_count": 11,
   "metadata": {},
   "outputs": [],
   "source": [
    "conn.close()"
   ]
  },
  {
   "cell_type": "code",
   "execution_count": null,
   "metadata": {},
   "outputs": [],
   "source": []
  }
 ],
 "metadata": {
  "kernelspec": {
   "display_name": "Python 2",
   "language": "python",
   "name": "python2"
  },
  "language_info": {
   "codemirror_mode": {
    "name": "ipython",
    "version": 2
   },
   "file_extension": ".py",
   "mimetype": "text/x-python",
   "name": "python",
   "nbconvert_exporter": "python",
   "pygments_lexer": "ipython2",
   "version": "2.7.14"
  }
 },
 "nbformat": 4,
 "nbformat_minor": 2
}
